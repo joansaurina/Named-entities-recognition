{
 "cells": [
  {
   "attachments": {},
   "cell_type": "markdown",
   "metadata": {},
   "source": [
    "## PRÀCTICA 3 PLH"
   ]
  },
  {
   "attachments": {},
   "cell_type": "markdown",
   "metadata": {},
   "source": [
    "### Llibreries"
   ]
  },
  {
   "cell_type": "code",
   "execution_count": null,
   "metadata": {},
   "outputs": [],
   "source": [
    "import nltk\n",
    "nltk.download('conll2002')\n",
    "from nltk.corpus import conll2002\n",
    "\n",
    "#libraries for get_features function:\n",
    "from typing import List\n",
    "from nltk.tag import CRFTagger\n",
    "from nltk.corpus import stopwords\n",
    "from nltk.stem import WordNetLemmatizer\n",
    "from nltk.tag import pos_tag\n",
    "from nltk.tokenize import word_tokenize\n",
    "\n",
    "# Download the necessary NLTK data\n",
    "nltk.download(\"stopwords\")\n",
    "nltk.download(\"wordnet\")\n",
    "nltk.download('punkt')\n",
    "nltk.download('averaged_perceptron_tagger') \n",
    "\n",
    "import pandas as pd\n",
    "import matplotlib.pyplot as plt\n",
    "import time\n",
    "import plotly.express as px\n",
    "\n"
   ]
  },
  {
   "attachments": {},
   "cell_type": "markdown",
   "metadata": {},
   "source": [
    "### Train,test split"
   ]
  },
  {
   "cell_type": "code",
   "execution_count": 2,
   "metadata": {},
   "outputs": [],
   "source": [
    "#espanyol:\n",
    "#-------------------------------------------------------------------------------------------------------\n",
    "\n",
    "train_esp = conll2002.iob_sents('esp.train') # Train, ned.train => Neerlandès\n",
    "test_a_esp =conll2002.iob_sents('esp.testa') # Dev\n",
    "test_b_esp = conll2002.iob_sents('esp.testb') # Test\n",
    "\n",
    "new_train = []\n",
    "for sublist in train_esp:\n",
    "  intermedi = []\n",
    "  for t in sublist:\n",
    "    intermedi.append(((t[:2]), t[2]))\n",
    "  new_train.append(intermedi)\n",
    "\n",
    "new_test_a = []\n",
    "for sublist in test_a_esp:\n",
    "  intermedi = []\n",
    "  for t in sublist:\n",
    "    intermedi.append(((t[:2]),t[2]))\n",
    "  new_test_a.append(intermedi)\n",
    "\n",
    "new_test_b = []\n",
    "for sublist in test_b_esp:\n",
    "  intermedi = []\n",
    "  for t in sublist:\n",
    "    intermedi.append(((t[:2]),t[2]))\n",
    "  new_test_b.append(intermedi)\n",
    "\n",
    "train_esp = new_train\n",
    "test_a_esp = new_test_a\n",
    "test_b_esp = new_test_b\n",
    "\n",
    "#-------------------------------------------------------------------------------------------------------\n",
    "\n",
    "#holandes\n",
    "#-------------------------------------------------------------------------------------------------------\n",
    "\n",
    "train_ned = conll2002.iob_sents('ned.train') # Train, ned.train => Neerlandès\n",
    "test_a_ned =conll2002.iob_sents('ned.testa') # Dev\n",
    "test_b_ned = conll2002.iob_sents('ned.testb') # Test\n",
    "\n",
    "new_train = []\n",
    "for sublist in train_ned:\n",
    "  intermedi = []\n",
    "  for t in sublist:\n",
    "    intermedi.append(((t[:2]),t[2]))\n",
    "  new_train.append(intermedi)\n",
    "\n",
    "new_test_a = []\n",
    "for sublist in test_a_ned:\n",
    "  intermedi = []\n",
    "  for t in sublist:\n",
    "    intermedi.append(((t[:2]), t[2]))\n",
    "  new_test_a.append(intermedi)\n",
    "\n",
    "new_test_b = []\n",
    "for sublist in test_b_ned:\n",
    "  intermedi = []\n",
    "  for t in sublist:\n",
    "    intermedi.append(((t[:2]), t[2]))\n",
    "  new_test_b.append(intermedi)\n",
    "\n",
    "train_ned = new_train\n",
    "test_a_ned = new_test_a\n",
    "test_b_ned = new_test_b\n"
   ]
  },
  {
   "attachments": {},
   "cell_type": "markdown",
   "metadata": {},
   "source": [
    "### Get features"
   ]
  },
  {
   "cell_type": "code",
   "execution_count": 3,
   "metadata": {},
   "outputs": [],
   "source": [
    "lemmatizer = WordNetLemmatizer()\n",
    "\n",
    "class CustomCRFTagger(CRFTagger):\n",
    "\n",
    "    def __init__(self, *args, idioma: str = 'spanish', pos_enabled: bool = True, is_uppercase: bool = True, pos_pred: bool = True, pos_post: bool = True, **kwargs):\n",
    "        super().__init__(*args, **kwargs)\n",
    "        self.pos_enabled: bool = pos_enabled\n",
    "        self.is_uppercase: bool = is_uppercase\n",
    "        self.pos_pred: bool = pos_pred\n",
    "        self.pos_post: bool = pos_post\n",
    "        self.idioma = idioma\n",
    "\n",
    "\n",
    "    def _get_features(self, tokens, idx):\n",
    "        word, POS_tag = tokens[idx]\n",
    "        features = [\n",
    "            \"word:\" + word,\n",
    "            \"has_punctuation:\" + str(any(c in word for c in \",.?!\")),\n",
    "            \"has_number:\" + str(any(c.isdigit() for c in word)),\n",
    "            \"suffix:\" + word[-3:],\n",
    "            \"length:\" + str(len(word)),\n",
    "            \"prefix:\" + word[:3],\n",
    "            \"lemma:\" + lemmatizer.lemmatize(word),\n",
    "            \"is_stopword:\" + str(word.lower() in  set(stopwords.words(self.idioma))), \n",
    "\n",
    "        ]\n",
    "        if self.pos_enabled:\n",
    "            features.append(\"POS_tag:\"+POS_tag)\n",
    "\n",
    "        if self.is_uppercase:\n",
    "            features.append(\"is_uppercase:\" + str(word[0].isupper()))\n",
    "\n",
    "        if self.pos_pred:\n",
    "            features.append(\"POS_pred:\"+tokens[idx-1][1]) if idx > 0 else features.append(\"POS_pred:\" + 'None')\n",
    "\n",
    "        if self.pos_post:\n",
    "            features.append(\"POS_post:\"+tokens[idx+1][1]) if idx < len(tokens)-1 else features.append(\"POS_post:\" + 'None')\n",
    "\n",
    "        return features\n",
    "\n",
    "def get_features(tokens: List[str], idx: int) -> List[str]:\n",
    "    tagger = CustomCRFTagger()\n",
    "    return tagger._get_features(tokens, idx)\n",
    "\n"
   ]
  },
  {
   "attachments": {},
   "cell_type": "markdown",
   "metadata": {},
   "source": [
    "### Experimentació amb diferents codificacions"
   ]
  },
  {
   "cell_type": "code",
   "execution_count": 4,
   "metadata": {},
   "outputs": [],
   "source": [
    "def bio_to_biow(data):\n",
    "    biow_data = []\n",
    "    for sentence in data:\n",
    "        biow_sentence = []\n",
    "        for i, ((word, pos), tag) in enumerate(sentence):\n",
    "            if tag != 'O':\n",
    "                if i > 0 and sentence[i-1][1] != 'O' and sentence[i-1][1][2:] == tag[2:] and \\\n",
    "                (i < len(sentence)-1 and sentence[i+1][1] != 'O' and sentence[i+1][1][2:] == tag[2:]):\n",
    "                    biow_sentence.append(((word, pos), 'I-'+tag[2:]))\n",
    "                elif i > 0 and sentence[i-1][1] != 'O' and sentence[i-1][1][2:] == tag[2:]:\n",
    "                    biow_sentence.append(((word, pos), 'I-'+tag[2:]))\n",
    "                elif i < len(sentence)-1 and sentence[i+1][1] != 'O' and sentence[i+1][1][2:] == tag[2:]:\n",
    "                    biow_sentence.append(((word, pos), 'B-'+tag[2:]))\n",
    "                else:\n",
    "                    biow_sentence.append(((word, pos), 'W-'+tag[2:]))\n",
    "            else:\n",
    "                biow_sentence.append(((word, pos), tag))\n",
    "        biow_data.append(biow_sentence)\n",
    "    return biow_data\n",
    "\n",
    "def bio_to_io(data):\n",
    "    io_data = []\n",
    "    for sentence in data:\n",
    "        io_sentence = []\n",
    "        for i, ((word, pos), tag) in enumerate(sentence):\n",
    "            if tag != 'O' and tag.startswith('B-'):\n",
    "                io_sentence.append(((word, pos), 'I-' + tag[2:]))\n",
    "            else:\n",
    "                io_sentence.append(((word, pos), tag))\n",
    "        io_data.append(io_sentence)\n",
    "    return io_data\n"
   ]
  },
  {
   "attachments": {},
   "cell_type": "markdown",
   "metadata": {},
   "source": [
    "### Customized score function"
   ]
  },
  {
   "attachments": {},
   "cell_type": "markdown",
   "metadata": {},
   "source": [
    "##### Get_entities (funció que retorna les entitats, utilizada per la funció compute_scores.)"
   ]
  },
  {
   "cell_type": "code",
   "execution_count": 5,
   "metadata": {},
   "outputs": [],
   "source": [
    "def get_entities(data, codification='bio'):\n",
    "    entities = []\n",
    "    inici = False\n",
    "\n",
    "    for i, frase in enumerate(data):\n",
    "        flag = False\n",
    "        for j, (_, label) in enumerate(frase):\n",
    "            \n",
    "            if codification == 'bio':\n",
    "                if flag is True:\n",
    "                    if not label.startswith('I-'):\n",
    "                        # Tupla que indica (document, inici d'e, final d'e, i classe d'e)\n",
    "                        entities.append((i, inici, j-1, frase[j-1][1][2:]))\n",
    "                        flag = False\n",
    "                        inici = False\n",
    "\n",
    "                if label.startswith('B-'):\n",
    "                    inici = j\n",
    "                    flag = True\n",
    "            \n",
    "            elif codification == 'biow':\n",
    "                if flag is True:\n",
    "                    if label == 'W':\n",
    "                        entities.append((i, inici, j-1, frase[j-1][1][2:]))\n",
    "                        flag = False\n",
    "                        inici = False\n",
    "                    \n",
    "                    elif not label.startswith('I-'):\n",
    "                        entities.append((i, inici, j-1, frase[j-1][1][2:]))\n",
    "                        flag = False\n",
    "                        inici = False\n",
    "\n",
    "                if label.startswith('B-'):\n",
    "                    inici = j\n",
    "                    flag = True\n",
    "\n",
    "            elif codification == 'io':\n",
    "                if flag == True:\n",
    "                    if not label.startswith('I-'):\n",
    "                        # Tupla que indica (document, inici d'e, final d'e, i classe d'e)\n",
    "                        entities.append((i, inici, j-1, frase[j-1][1][2:]))\n",
    "                        flag = False\n",
    "                        inici = False\n",
    "\n",
    "                elif label.startswith('I-'):\n",
    "                    if flag is False:\n",
    "                        inici = j\n",
    "                        flag = True\n",
    "\n",
    "\n",
    "        if inici is not False:\n",
    "            entities.append((i, inici, len(frase)-1, frase[-1][1][2:]))\n",
    "            inici = False\n",
    "    \n",
    "    return entities\n"
   ]
  },
  {
   "attachments": {},
   "cell_type": "markdown",
   "metadata": {},
   "source": [
    "##### Scores (funció que calcula Recall, Precision i F-score), utilizada per compute_scores  "
   ]
  },
  {
   "cell_type": "code",
   "execution_count": 6,
   "metadata": {},
   "outputs": [],
   "source": [
    "def scores(counts):\n",
    "    Rec = (counts['CA'] + 0.5 * counts['PA']) / (counts['CA'] + counts['IA'] + counts['PA'] + counts['MA'])\n",
    "\n",
    "    Prec = (counts['CA'] + 0.5 * counts['PA']) / (counts['CA'] + counts['IA'] + counts['PA'] + counts['SP'])\n",
    "\n",
    "    F_score = 0\n",
    "    if not (Prec == 0 or Rec == 0):\n",
    "        F_score =  2 * (Prec * Rec) / (Prec + Rec)\n",
    "\n",
    "    return Rec, Prec, F_score"
   ]
  },
  {
   "attachments": {},
   "cell_type": "markdown",
   "metadata": {},
   "source": [
    "##### Compute scores (funció que crida a get_entites i calcula el contatge de com es prediuen les entitats)"
   ]
  },
  {
   "cell_type": "code",
   "execution_count": 7,
   "metadata": {},
   "outputs": [],
   "source": [
    "def compute_scores(test, predicted,codification ='bio'):\n",
    "    predicted = set(get_entities(predicted,codification))\n",
    "    test = set(get_entities(test,codification))\n",
    "\n",
    "    counts = {'CA': 0, 'IA': 0, 'PA': 0, 'MA': 0, 'SP': 0}\n",
    "    CA_tot = predicted.intersection(test)\n",
    "    counts['CA'] = len(CA_tot)\n",
    "\n",
    "    predicted = predicted - CA_tot\n",
    "    test = test - CA_tot\n",
    "\n",
    "    matched_elements = set() #Guardar els elements de test que s'ha d'eliminar.\n",
    "    for test_entity in test:\n",
    "        for predicted_entity in predicted:\n",
    "            if test_entity[:2] == predicted_entity[:2] and test_entity[3] != predicted_entity[3]:\n",
    "                counts['IA'] += 1\n",
    "                predicted.remove(predicted_entity)\n",
    "                matched_elements.add(test_entity)\n",
    "                break\n",
    "\n",
    "    #Eliminar els elements de test que han fet match amb els de predict.\n",
    "    test = test - matched_elements\n",
    "\n",
    "    matched_elements = set()\n",
    "    for test_entity in test:\n",
    "        for predicted_entity in predicted:\n",
    "            if (predicted_entity[1] <= test_entity[1] < test_entity[2] or predicted_entity[1] < predicted_entity[2] <= test_entity[2]) and test_entity[3] == predicted_entity[3] and test_entity[0] == predicted_entity[0] :\n",
    "                counts['PA'] += 1\n",
    "                predicted.remove(predicted_entity)\n",
    "                matched_elements.add(test_entity)\n",
    "                break\n",
    "    \n",
    "    test = test - matched_elements\n",
    "    \n",
    "    # Missing matches: present al test però no a les prediccions.\n",
    "    counts['MA'] = len(test)\n",
    "\n",
    "    # Spurious matches: present a les prediccions però no al test.\n",
    "    counts['SP'] = len(predicted)\n",
    "\n",
    "    \n",
    "    return scores(counts)"
   ]
  },
  {
   "attachments": {},
   "cell_type": "markdown",
   "metadata": {},
   "source": [
    "### Espanyol"
   ]
  },
  {
   "attachments": {},
   "cell_type": "markdown",
   "metadata": {},
   "source": [
    "##### Divisió de dades"
   ]
  },
  {
   "cell_type": "code",
   "execution_count": 8,
   "metadata": {},
   "outputs": [],
   "source": [
    "#train sets \n",
    "train_esp_biow = bio_to_biow(train_esp)\n",
    "train_esp_io = bio_to_io(train_esp)\n",
    "train_esp_bio = train_esp\n",
    "\n",
    "#validation sets\n",
    "val_esp_biow = bio_to_biow(test_a_esp)\n",
    "val_esp_io = bio_to_io(test_a_esp)\n",
    "val_esp_bio = test_a_esp\n",
    "\n",
    "#test sets\n",
    "test_esp_biow = bio_to_biow(test_b_esp)\n",
    "test_esp_io = bio_to_io(test_b_esp)\n",
    "test_esp_bio = test_b_esp\n"
   ]
  },
  {
   "attachments": {},
   "cell_type": "markdown",
   "metadata": {},
   "source": [
    "##### Entrenament i validació amb diferents codificacions"
   ]
  },
  {
   "cell_type": "code",
   "execution_count": null,
   "metadata": {},
   "outputs": [],
   "source": [
    "# Creem llistes amb valors booleans per indicar si s'ha d'activar o no determinades característiques del model.\n",
    "pos_enabled_v = [True,False]\n",
    "is_upper_case_v = [True,False]\n",
    "pos_pred =[True,False]\n",
    "pos_post = [True,False]\n",
    "\n",
    "# Creem una llista de diccionaris amb les diferents codificacions per a l'idioma espanyol\n",
    "codificacions_esp = [{'train': train_esp_bio, 'val': val_esp_bio, 'codificacio': 'bio'}, {'train': train_esp_io, 'val': val_esp_io, 'codificacio': 'io'}, {'train': train_esp_biow, 'val': val_esp_biow, 'codificacio': 'biow'} ]\n",
    "\n",
    "# Inicialitzem una llista buida per a guardar els resultats\n",
    "results = []\n",
    "\n",
    "# Comencem un bucle on per cada conjunt de dades i codificació\n",
    "for dataset in codificacions_esp:\n",
    "    # Desempaquetem les dades d'entrenament, validació i la codificació\n",
    "    train = dataset['train']\n",
    "    val = dataset['val']\n",
    "    codificacio = dataset['codificacio']\n",
    "\n",
    "    for anterior in pos_pred:\n",
    "        for seguent in pos_post:\n",
    "            # Executem un altre bucle per a cada combinació de valors de pos_enabled i is_uppercase\n",
    "            for valor_pos in pos_enabled_v:\n",
    "                for valor_upper in is_upper_case_v:\n",
    "                    # Creem i entrenem el model personalitzat amb les opcions corresponents\n",
    "                    custom_tagger = CustomCRFTagger(pos_enabled = valor_pos, is_uppercase = valor_upper, pos_pred = anterior, pos_post = seguent)\n",
    "                    \n",
    "                    # Guardem el temps actual\n",
    "                    start_time = time.time()\n",
    "                    \n",
    "                    # Entrenem el model\n",
    "                    custom_tagger.train(train, 'custom_model.crf.tagger')\n",
    "                    \n",
    "                    # Calculem el temps que ha tardat l'entrenament\n",
    "                    training_time = time.time() - start_time\n",
    "\n",
    "                    # Guardem el temps actual\n",
    "                    start_time = time.time()\n",
    "\n",
    "                    # Realitzem les prediccions en el conjunt de validació\n",
    "                    predicted_tags = custom_tagger.tag_sents([[token for token, _ in sent] for sent in val])\n",
    "\n",
    "                    # Calculem el temps que ha tardat la validació\n",
    "                    validation_time = time.time() - start_time\n",
    "\n",
    "                    # Calculem les mètriques de rendiment (recall, precision, f-score)\n",
    "                    recall, precision, fscore = compute_scores(predicted_tags, val, codification = codificacio)\n",
    "\n",
    "                    # Guardem els resultats\n",
    "                    results.append((codificacio, recall, precision, fscore, valor_pos, valor_upper, anterior, seguent, training_time, validation_time))\n",
    "                    print('done')"
   ]
  },
  {
   "attachments": {},
   "cell_type": "markdown",
   "metadata": {},
   "source": [
    "##### Guardar/cargar el dataframe"
   ]
  },
  {
   "cell_type": "code",
   "execution_count": 35,
   "metadata": {},
   "outputs": [],
   "source": [
    "# Guardamos el DataFrame a un archivo CSV\n",
    "#dataframe_espanyol = pd.DataFrame(results, columns=['codificacio', 'recall', 'precision', 'fscore', 'pos_enabled_v', 'is_upper_case_v', 'pos_pred', 'pos_post','temps entrenament (s)','temps validació (s)'])\n",
    "#dataframe_espanyol.to_csv('dataframe_espanyol.csv', index=False)\n",
    "\n",
    "# Cargar el archivo CSV en un DataFrame\n",
    "dataframe_espanyol = pd.read_csv('dataframe_espanyol.csv')"
   ]
  },
  {
   "attachments": {},
   "cell_type": "markdown",
   "metadata": {},
   "source": [
    "##### Visualització de resultats"
   ]
  },
  {
   "cell_type": "code",
   "execution_count": 38,
   "metadata": {},
   "outputs": [
    {
     "data": {
      "application/vnd.plotly.v1+json": {
       "config": {
        "plotlyServerURL": "https://plot.ly"
       },
       "data": [
        {
         "customdata": [
          [
           0.749,
           0.721,
           true,
           true,
           true,
           true
          ],
          [
           0.774,
           0.667,
           true,
           false,
           true,
           true
          ],
          [
           0.748,
           0.718,
           false,
           true,
           true,
           true
          ],
          [
           0.772,
           0.652,
           false,
           false,
           true,
           true
          ],
          [
           0.75,
           0.717,
           true,
           true,
           true,
           false
          ],
          [
           0.776,
           0.644,
           true,
           false,
           true,
           false
          ],
          [
           0.748,
           0.709,
           false,
           true,
           true,
           false
          ],
          [
           0.776,
           0.627,
           false,
           false,
           true,
           false
          ],
          [
           0.733,
           0.703,
           true,
           true,
           false,
           true
          ],
          [
           0.766,
           0.641,
           true,
           false,
           false,
           true
          ],
          [
           0.728,
           0.696,
           false,
           true,
           false,
           true
          ],
          [
           0.763,
           0.624,
           false,
           false,
           false,
           true
          ],
          [
           0.733,
           0.7,
           true,
           true,
           false,
           false
          ],
          [
           0.777,
           0.624,
           true,
           false,
           false,
           false
          ],
          [
           0.725,
           0.69,
           false,
           true,
           false,
           false
          ],
          [
           0.778,
           0.592,
           false,
           false,
           false,
           false
          ]
         ],
         "hovertemplate": "codificacio=bio<br>fscore=%{x}<br>temps entrenament (s)=%{y}<br>temps validació (s)=%{z}<br>recall=%{customdata[0]}<br>precision=%{customdata[1]}<br>pos_enabled_v=%{customdata[2]}<br>is_upper_case_v=%{customdata[3]}<br>pos_pred=%{customdata[4]}<br>pos_post=%{customdata[5]}<extra></extra>",
         "legendgroup": "bio",
         "marker": {
          "color": "#636efa",
          "symbol": "circle"
         },
         "mode": "markers",
         "name": "bio",
         "scene": "scene",
         "showlegend": true,
         "type": "scatter3d",
         "x": [
          0.735,
          0.717,
          0.733,
          0.707,
          0.733,
          0.704,
          0.728,
          0.694,
          0.718,
          0.698,
          0.712,
          0.687,
          0.716,
          0.692,
          0.707,
          0.673
         ],
         "y": [
          141.53,
          148.793,
          134.963,
          143.593,
          149.333,
          205.594,
          309.711,
          316.779,
          320.772,
          336.906,
          303.854,
          318.155,
          318.083,
          334.937,
          304.179,
          325.997
         ],
         "z": [
          13.288,
          12.437,
          13.28,
          15.777,
          13.236,
          30.957,
          30.235,
          31.121,
          30.561,
          32.07,
          31.774,
          33.824,
          32.462,
          32.904,
          33.395,
          31.561
         ]
        },
        {
         "customdata": [
          [
           0.744,
           0.714,
           true,
           true,
           true,
           true
          ],
          [
           0.76,
           0.661,
           true,
           false,
           true,
           true
          ],
          [
           0.744,
           0.715,
           false,
           true,
           true,
           true
          ],
          [
           0.76,
           0.644,
           false,
           false,
           true,
           true
          ],
          [
           0.74,
           0.708,
           true,
           true,
           true,
           false
          ],
          [
           0.759,
           0.636,
           true,
           false,
           true,
           false
          ],
          [
           0.739,
           0.701,
           false,
           true,
           true,
           false
          ],
          [
           0.755,
           0.613,
           false,
           false,
           true,
           false
          ],
          [
           0.727,
           0.696,
           true,
           true,
           false,
           true
          ],
          [
           0.754,
           0.64,
           true,
           false,
           false,
           true
          ],
          [
           0.721,
           0.692,
           false,
           true,
           false,
           true
          ],
          [
           0.748,
           0.618,
           false,
           false,
           false,
           true
          ],
          [
           0.723,
           0.687,
           true,
           true,
           false,
           false
          ],
          [
           0.755,
           0.615,
           true,
           false,
           false,
           false
          ],
          [
           0.73,
           0.688,
           false,
           true,
           false,
           false
          ],
          [
           0.76,
           0.591,
           false,
           false,
           false,
           false
          ]
         ],
         "hovertemplate": "codificacio=io<br>fscore=%{x}<br>temps entrenament (s)=%{y}<br>temps validació (s)=%{z}<br>recall=%{customdata[0]}<br>precision=%{customdata[1]}<br>pos_enabled_v=%{customdata[2]}<br>is_upper_case_v=%{customdata[3]}<br>pos_pred=%{customdata[4]}<br>pos_post=%{customdata[5]}<extra></extra>",
         "legendgroup": "io",
         "marker": {
          "color": "#EF553B",
          "symbol": "circle"
         },
         "mode": "markers",
         "name": "io",
         "scene": "scene",
         "showlegend": true,
         "type": "scatter3d",
         "x": [
          0.728,
          0.707,
          0.729,
          0.697,
          0.724,
          0.692,
          0.719,
          0.677,
          0.711,
          0.692,
          0.706,
          0.676,
          0.705,
          0.678,
          0.709,
          0.665
         ],
         "y": [
          293.387,
          325.62,
          288.3,
          291.231,
          295.761,
          307.039,
          267.339,
          303.067,
          284.385,
          298.374,
          274.859,
          270.818,
          260.007,
          259.424,
          253.736,
          259.938
         ],
         "z": [
          34.937,
          33.182,
          31.425,
          30.948,
          34.769,
          31.746,
          33.417,
          34.285,
          27.017,
          31.154,
          32.449,
          29.672,
          29.565,
          31.494,
          29.46,
          29.282
         ]
        },
        {
         "customdata": [
          [
           0.763,
           0.75,
           true,
           true,
           true,
           true
          ],
          [
           0.78,
           0.713,
           true,
           false,
           true,
           true
          ],
          [
           0.759,
           0.744,
           false,
           true,
           true,
           true
          ],
          [
           0.779,
           0.714,
           false,
           false,
           true,
           true
          ],
          [
           0.76,
           0.745,
           true,
           true,
           true,
           false
          ],
          [
           0.776,
           0.71,
           true,
           false,
           true,
           false
          ],
          [
           0.756,
           0.741,
           false,
           true,
           true,
           false
          ],
          [
           0.777,
           0.713,
           false,
           false,
           true,
           false
          ],
          [
           0.769,
           0.752,
           true,
           true,
           false,
           true
          ],
          [
           0.781,
           0.712,
           true,
           false,
           false,
           true
          ],
          [
           0.767,
           0.748,
           false,
           true,
           false,
           true
          ],
          [
           0.779,
           0.707,
           false,
           false,
           false,
           true
          ],
          [
           0.765,
           0.748,
           true,
           true,
           false,
           false
          ],
          [
           0.776,
           0.711,
           true,
           false,
           false,
           false
          ],
          [
           0.771,
           0.749,
           false,
           true,
           false,
           false
          ],
          [
           0.777,
           0.707,
           false,
           false,
           false,
           false
          ]
         ],
         "hovertemplate": "codificacio=biow<br>fscore=%{x}<br>temps entrenament (s)=%{y}<br>temps validació (s)=%{z}<br>recall=%{customdata[0]}<br>precision=%{customdata[1]}<br>pos_enabled_v=%{customdata[2]}<br>is_upper_case_v=%{customdata[3]}<br>pos_pred=%{customdata[4]}<br>pos_post=%{customdata[5]}<extra></extra>",
         "legendgroup": "biow",
         "marker": {
          "color": "#00cc96",
          "symbol": "circle"
         },
         "mode": "markers",
         "name": "biow",
         "scene": "scene",
         "showlegend": true,
         "type": "scatter3d",
         "x": [
          0.756,
          0.745,
          0.752,
          0.745,
          0.752,
          0.742,
          0.748,
          0.744,
          0.76,
          0.745,
          0.757,
          0.742,
          0.756,
          0.743,
          0.76,
          0.74
         ],
         "y": [
          358.554,
          393.254,
          342.113,
          370.355,
          349.191,
          372.911,
          329.315,
          360.137,
          347.7,
          363.959,
          329.377,
          343.725,
          335.816,
          353.186,
          321.317,
          339.634
         ],
         "z": [
          29.398,
          29.382,
          30.465,
          29.546,
          29.939,
          29.531,
          30.22,
          29.19,
          29.478,
          29.242,
          29.687,
          29.667,
          29.158,
          29.18,
          30.19,
          29.197
         ]
        }
       ],
       "layout": {
        "height": 750,
        "legend": {
         "title": {
          "text": "codificacio"
         },
         "tracegroupgap": 0
        },
        "margin": {
         "t": 60
        },
        "scene": {
         "domain": {
          "x": [
           0,
           1
          ],
          "y": [
           0,
           1
          ]
         },
         "xaxis": {
          "title": {
           "text": "fscore"
          }
         },
         "yaxis": {
          "title": {
           "text": "temps entrenament (s)"
          }
         },
         "zaxis": {
          "title": {
           "text": "temps validació (s)"
          }
         }
        },
        "template": {
         "data": {
          "bar": [
           {
            "error_x": {
             "color": "#2a3f5f"
            },
            "error_y": {
             "color": "#2a3f5f"
            },
            "marker": {
             "line": {
              "color": "#E5ECF6",
              "width": 0.5
             },
             "pattern": {
              "fillmode": "overlay",
              "size": 10,
              "solidity": 0.2
             }
            },
            "type": "bar"
           }
          ],
          "barpolar": [
           {
            "marker": {
             "line": {
              "color": "#E5ECF6",
              "width": 0.5
             },
             "pattern": {
              "fillmode": "overlay",
              "size": 10,
              "solidity": 0.2
             }
            },
            "type": "barpolar"
           }
          ],
          "carpet": [
           {
            "aaxis": {
             "endlinecolor": "#2a3f5f",
             "gridcolor": "white",
             "linecolor": "white",
             "minorgridcolor": "white",
             "startlinecolor": "#2a3f5f"
            },
            "baxis": {
             "endlinecolor": "#2a3f5f",
             "gridcolor": "white",
             "linecolor": "white",
             "minorgridcolor": "white",
             "startlinecolor": "#2a3f5f"
            },
            "type": "carpet"
           }
          ],
          "choropleth": [
           {
            "colorbar": {
             "outlinewidth": 0,
             "ticks": ""
            },
            "type": "choropleth"
           }
          ],
          "contour": [
           {
            "colorbar": {
             "outlinewidth": 0,
             "ticks": ""
            },
            "colorscale": [
             [
              0,
              "#0d0887"
             ],
             [
              0.1111111111111111,
              "#46039f"
             ],
             [
              0.2222222222222222,
              "#7201a8"
             ],
             [
              0.3333333333333333,
              "#9c179e"
             ],
             [
              0.4444444444444444,
              "#bd3786"
             ],
             [
              0.5555555555555556,
              "#d8576b"
             ],
             [
              0.6666666666666666,
              "#ed7953"
             ],
             [
              0.7777777777777778,
              "#fb9f3a"
             ],
             [
              0.8888888888888888,
              "#fdca26"
             ],
             [
              1,
              "#f0f921"
             ]
            ],
            "type": "contour"
           }
          ],
          "contourcarpet": [
           {
            "colorbar": {
             "outlinewidth": 0,
             "ticks": ""
            },
            "type": "contourcarpet"
           }
          ],
          "heatmap": [
           {
            "colorbar": {
             "outlinewidth": 0,
             "ticks": ""
            },
            "colorscale": [
             [
              0,
              "#0d0887"
             ],
             [
              0.1111111111111111,
              "#46039f"
             ],
             [
              0.2222222222222222,
              "#7201a8"
             ],
             [
              0.3333333333333333,
              "#9c179e"
             ],
             [
              0.4444444444444444,
              "#bd3786"
             ],
             [
              0.5555555555555556,
              "#d8576b"
             ],
             [
              0.6666666666666666,
              "#ed7953"
             ],
             [
              0.7777777777777778,
              "#fb9f3a"
             ],
             [
              0.8888888888888888,
              "#fdca26"
             ],
             [
              1,
              "#f0f921"
             ]
            ],
            "type": "heatmap"
           }
          ],
          "heatmapgl": [
           {
            "colorbar": {
             "outlinewidth": 0,
             "ticks": ""
            },
            "colorscale": [
             [
              0,
              "#0d0887"
             ],
             [
              0.1111111111111111,
              "#46039f"
             ],
             [
              0.2222222222222222,
              "#7201a8"
             ],
             [
              0.3333333333333333,
              "#9c179e"
             ],
             [
              0.4444444444444444,
              "#bd3786"
             ],
             [
              0.5555555555555556,
              "#d8576b"
             ],
             [
              0.6666666666666666,
              "#ed7953"
             ],
             [
              0.7777777777777778,
              "#fb9f3a"
             ],
             [
              0.8888888888888888,
              "#fdca26"
             ],
             [
              1,
              "#f0f921"
             ]
            ],
            "type": "heatmapgl"
           }
          ],
          "histogram": [
           {
            "marker": {
             "pattern": {
              "fillmode": "overlay",
              "size": 10,
              "solidity": 0.2
             }
            },
            "type": "histogram"
           }
          ],
          "histogram2d": [
           {
            "colorbar": {
             "outlinewidth": 0,
             "ticks": ""
            },
            "colorscale": [
             [
              0,
              "#0d0887"
             ],
             [
              0.1111111111111111,
              "#46039f"
             ],
             [
              0.2222222222222222,
              "#7201a8"
             ],
             [
              0.3333333333333333,
              "#9c179e"
             ],
             [
              0.4444444444444444,
              "#bd3786"
             ],
             [
              0.5555555555555556,
              "#d8576b"
             ],
             [
              0.6666666666666666,
              "#ed7953"
             ],
             [
              0.7777777777777778,
              "#fb9f3a"
             ],
             [
              0.8888888888888888,
              "#fdca26"
             ],
             [
              1,
              "#f0f921"
             ]
            ],
            "type": "histogram2d"
           }
          ],
          "histogram2dcontour": [
           {
            "colorbar": {
             "outlinewidth": 0,
             "ticks": ""
            },
            "colorscale": [
             [
              0,
              "#0d0887"
             ],
             [
              0.1111111111111111,
              "#46039f"
             ],
             [
              0.2222222222222222,
              "#7201a8"
             ],
             [
              0.3333333333333333,
              "#9c179e"
             ],
             [
              0.4444444444444444,
              "#bd3786"
             ],
             [
              0.5555555555555556,
              "#d8576b"
             ],
             [
              0.6666666666666666,
              "#ed7953"
             ],
             [
              0.7777777777777778,
              "#fb9f3a"
             ],
             [
              0.8888888888888888,
              "#fdca26"
             ],
             [
              1,
              "#f0f921"
             ]
            ],
            "type": "histogram2dcontour"
           }
          ],
          "mesh3d": [
           {
            "colorbar": {
             "outlinewidth": 0,
             "ticks": ""
            },
            "type": "mesh3d"
           }
          ],
          "parcoords": [
           {
            "line": {
             "colorbar": {
              "outlinewidth": 0,
              "ticks": ""
             }
            },
            "type": "parcoords"
           }
          ],
          "pie": [
           {
            "automargin": true,
            "type": "pie"
           }
          ],
          "scatter": [
           {
            "fillpattern": {
             "fillmode": "overlay",
             "size": 10,
             "solidity": 0.2
            },
            "type": "scatter"
           }
          ],
          "scatter3d": [
           {
            "line": {
             "colorbar": {
              "outlinewidth": 0,
              "ticks": ""
             }
            },
            "marker": {
             "colorbar": {
              "outlinewidth": 0,
              "ticks": ""
             }
            },
            "type": "scatter3d"
           }
          ],
          "scattercarpet": [
           {
            "marker": {
             "colorbar": {
              "outlinewidth": 0,
              "ticks": ""
             }
            },
            "type": "scattercarpet"
           }
          ],
          "scattergeo": [
           {
            "marker": {
             "colorbar": {
              "outlinewidth": 0,
              "ticks": ""
             }
            },
            "type": "scattergeo"
           }
          ],
          "scattergl": [
           {
            "marker": {
             "colorbar": {
              "outlinewidth": 0,
              "ticks": ""
             }
            },
            "type": "scattergl"
           }
          ],
          "scattermapbox": [
           {
            "marker": {
             "colorbar": {
              "outlinewidth": 0,
              "ticks": ""
             }
            },
            "type": "scattermapbox"
           }
          ],
          "scatterpolar": [
           {
            "marker": {
             "colorbar": {
              "outlinewidth": 0,
              "ticks": ""
             }
            },
            "type": "scatterpolar"
           }
          ],
          "scatterpolargl": [
           {
            "marker": {
             "colorbar": {
              "outlinewidth": 0,
              "ticks": ""
             }
            },
            "type": "scatterpolargl"
           }
          ],
          "scatterternary": [
           {
            "marker": {
             "colorbar": {
              "outlinewidth": 0,
              "ticks": ""
             }
            },
            "type": "scatterternary"
           }
          ],
          "surface": [
           {
            "colorbar": {
             "outlinewidth": 0,
             "ticks": ""
            },
            "colorscale": [
             [
              0,
              "#0d0887"
             ],
             [
              0.1111111111111111,
              "#46039f"
             ],
             [
              0.2222222222222222,
              "#7201a8"
             ],
             [
              0.3333333333333333,
              "#9c179e"
             ],
             [
              0.4444444444444444,
              "#bd3786"
             ],
             [
              0.5555555555555556,
              "#d8576b"
             ],
             [
              0.6666666666666666,
              "#ed7953"
             ],
             [
              0.7777777777777778,
              "#fb9f3a"
             ],
             [
              0.8888888888888888,
              "#fdca26"
             ],
             [
              1,
              "#f0f921"
             ]
            ],
            "type": "surface"
           }
          ],
          "table": [
           {
            "cells": {
             "fill": {
              "color": "#EBF0F8"
             },
             "line": {
              "color": "white"
             }
            },
            "header": {
             "fill": {
              "color": "#C8D4E3"
             },
             "line": {
              "color": "white"
             }
            },
            "type": "table"
           }
          ]
         },
         "layout": {
          "annotationdefaults": {
           "arrowcolor": "#2a3f5f",
           "arrowhead": 0,
           "arrowwidth": 1
          },
          "autotypenumbers": "strict",
          "coloraxis": {
           "colorbar": {
            "outlinewidth": 0,
            "ticks": ""
           }
          },
          "colorscale": {
           "diverging": [
            [
             0,
             "#8e0152"
            ],
            [
             0.1,
             "#c51b7d"
            ],
            [
             0.2,
             "#de77ae"
            ],
            [
             0.3,
             "#f1b6da"
            ],
            [
             0.4,
             "#fde0ef"
            ],
            [
             0.5,
             "#f7f7f7"
            ],
            [
             0.6,
             "#e6f5d0"
            ],
            [
             0.7,
             "#b8e186"
            ],
            [
             0.8,
             "#7fbc41"
            ],
            [
             0.9,
             "#4d9221"
            ],
            [
             1,
             "#276419"
            ]
           ],
           "sequential": [
            [
             0,
             "#0d0887"
            ],
            [
             0.1111111111111111,
             "#46039f"
            ],
            [
             0.2222222222222222,
             "#7201a8"
            ],
            [
             0.3333333333333333,
             "#9c179e"
            ],
            [
             0.4444444444444444,
             "#bd3786"
            ],
            [
             0.5555555555555556,
             "#d8576b"
            ],
            [
             0.6666666666666666,
             "#ed7953"
            ],
            [
             0.7777777777777778,
             "#fb9f3a"
            ],
            [
             0.8888888888888888,
             "#fdca26"
            ],
            [
             1,
             "#f0f921"
            ]
           ],
           "sequentialminus": [
            [
             0,
             "#0d0887"
            ],
            [
             0.1111111111111111,
             "#46039f"
            ],
            [
             0.2222222222222222,
             "#7201a8"
            ],
            [
             0.3333333333333333,
             "#9c179e"
            ],
            [
             0.4444444444444444,
             "#bd3786"
            ],
            [
             0.5555555555555556,
             "#d8576b"
            ],
            [
             0.6666666666666666,
             "#ed7953"
            ],
            [
             0.7777777777777778,
             "#fb9f3a"
            ],
            [
             0.8888888888888888,
             "#fdca26"
            ],
            [
             1,
             "#f0f921"
            ]
           ]
          },
          "colorway": [
           "#636efa",
           "#EF553B",
           "#00cc96",
           "#ab63fa",
           "#FFA15A",
           "#19d3f3",
           "#FF6692",
           "#B6E880",
           "#FF97FF",
           "#FECB52"
          ],
          "font": {
           "color": "#2a3f5f"
          },
          "geo": {
           "bgcolor": "white",
           "lakecolor": "white",
           "landcolor": "#E5ECF6",
           "showlakes": true,
           "showland": true,
           "subunitcolor": "white"
          },
          "hoverlabel": {
           "align": "left"
          },
          "hovermode": "closest",
          "mapbox": {
           "style": "light"
          },
          "paper_bgcolor": "white",
          "plot_bgcolor": "#E5ECF6",
          "polar": {
           "angularaxis": {
            "gridcolor": "white",
            "linecolor": "white",
            "ticks": ""
           },
           "bgcolor": "#E5ECF6",
           "radialaxis": {
            "gridcolor": "white",
            "linecolor": "white",
            "ticks": ""
           }
          },
          "scene": {
           "xaxis": {
            "backgroundcolor": "#E5ECF6",
            "gridcolor": "white",
            "gridwidth": 2,
            "linecolor": "white",
            "showbackground": true,
            "ticks": "",
            "zerolinecolor": "white"
           },
           "yaxis": {
            "backgroundcolor": "#E5ECF6",
            "gridcolor": "white",
            "gridwidth": 2,
            "linecolor": "white",
            "showbackground": true,
            "ticks": "",
            "zerolinecolor": "white"
           },
           "zaxis": {
            "backgroundcolor": "#E5ECF6",
            "gridcolor": "white",
            "gridwidth": 2,
            "linecolor": "white",
            "showbackground": true,
            "ticks": "",
            "zerolinecolor": "white"
           }
          },
          "shapedefaults": {
           "line": {
            "color": "#2a3f5f"
           }
          },
          "ternary": {
           "aaxis": {
            "gridcolor": "white",
            "linecolor": "white",
            "ticks": ""
           },
           "baxis": {
            "gridcolor": "white",
            "linecolor": "white",
            "ticks": ""
           },
           "bgcolor": "#E5ECF6",
           "caxis": {
            "gridcolor": "white",
            "linecolor": "white",
            "ticks": ""
           }
          },
          "title": {
           "x": 0.05
          },
          "xaxis": {
           "automargin": true,
           "gridcolor": "white",
           "linecolor": "white",
           "ticks": "",
           "title": {
            "standoff": 15
           },
           "zerolinecolor": "white",
           "zerolinewidth": 2
          },
          "yaxis": {
           "automargin": true,
           "gridcolor": "white",
           "linecolor": "white",
           "ticks": "",
           "title": {
            "standoff": 15
           },
           "zerolinecolor": "white",
           "zerolinewidth": 2
          }
         }
        },
        "title": {
         "text": "Codificacions de models (Espanyol)"
        },
        "width": 750
       }
      }
     },
     "metadata": {},
     "output_type": "display_data"
    }
   ],
   "source": [
    "hover_data = {\n",
    "    'recall': True, \n",
    "    'precision': True,\n",
    "    'pos_enabled_v': True,\n",
    "    'is_upper_case_v': True,\n",
    "    'pos_pred': True,\n",
    "    'pos_post': True,\n",
    "}\n",
    "\n",
    "fig = px.scatter_3d(dataframe_espanyol, \n",
    "                     x='fscore', \n",
    "                     y='temps entrenament (s)', \n",
    "                     z='temps validació (s)', \n",
    "                     color='codificacio', \n",
    "                     hover_data=hover_data)\n",
    "\n",
    "fig.update_layout(width=750, height=750, title=\"Codificacions de models (Espanyol)\")\n",
    "\n",
    "fig.show()"
   ]
  },
  {
   "attachments": {},
   "cell_type": "markdown",
   "metadata": {},
   "source": [
    "##### Millor model al test:"
   ]
  },
  {
   "cell_type": "code",
   "execution_count": 32,
   "metadata": {},
   "outputs": [
    {
     "name": "stdout",
     "output_type": "stream",
     "text": [
      "Recall: 0.798079678991115, Precision: 0.7826025857223159, F-score 0.7902653611465872, training time 315.33295345306396 i test time 30.927047729492188\n"
     ]
    }
   ],
   "source": [
    "custom_tagger = CustomCRFTagger(pos_enabled = True, is_uppercase = True, pos_pred = True, pos_post= True)\n",
    "\n",
    "# Calculem el temps que ha tardat l'entrenament\n",
    "start_time = time.time() \n",
    "custom_tagger.train(train_esp_bio, 'custom_model.crf.tagger')\n",
    "training_time = time.time() - start_time\n",
    "\n",
    "# Calculem el temps que ha tardat el test\n",
    "start_time = time.time() \n",
    "predicted_tags = custom_tagger.tag_sents([[token for token, _ in sent] for sent in test_esp_bio])\n",
    "test_time = time.time() - start_time\n",
    "\n",
    "recall, precision, fscore = compute_scores(predicted_tags,test_esp_bio,codification = 'bio')\n",
    "\n",
    "print(f'Recall: {recall}, Precision: {precision}, F-score {fscore}, training time {training_time} i test time {test_time}')\n"
   ]
  },
  {
   "attachments": {},
   "cell_type": "markdown",
   "metadata": {},
   "source": [
    "##### Model amb textos reals generats per CHAT GPT"
   ]
  },
  {
   "cell_type": "code",
   "execution_count": 98,
   "metadata": {},
   "outputs": [],
   "source": [
    "text_chat_gpt = [\n",
    "    [(('Madrid', 'NP'), 'B-LOC'),\n",
    "     (('(', 'Fpa'), 'O'),\n",
    "     (('España', 'NP'), 'B-LOC'),\n",
    "     ((')', 'Fpt'), 'O'),\n",
    "     ((',', 'Fc'), 'O'),\n",
    "     (('16', 'Z'), 'O'),\n",
    "     (('mayo', 'NC'), 'O'),\n",
    "     (('(', 'Fpa'), 'O'),\n",
    "     (('AFP', 'NC'), 'B-ORG'),\n",
    "     ((')', 'Fpt'), 'O'),\n",
    "     (('.', 'Fp'), 'O')],\n",
    "\n",
    "    [(('El', 'DA'), 'O'),\n",
    "     (('Ministro', 'NC'), 'B-PER'),\n",
    "     (('de', 'SP'), 'I-PER'),\n",
    "     (('Salud', 'NC'), 'I-PER'),\n",
    "     ((',', 'Fc'), 'O'),\n",
    "     (('Carlos', 'VMI'), 'B-PER'),\n",
    "     (('Martinez', 'NC'), 'I-PER'),\n",
    "     ((',', 'Fc'), 'O'),\n",
    "     (('anunció', 'VMI'), 'O'),\n",
    "     (('ayer', 'RG'), 'O'),\n",
    "     (('la', 'DA'), 'O'),\n",
    "     (('nueva', 'AQ'), 'O'),\n",
    "     (('campaña', 'NC'), 'O'),\n",
    "     (('de', 'SP'), 'O'),\n",
    "     (('vacunación', 'NC'), 'O'),\n",
    "     (('contra', 'CC'), 'O'),\n",
    "     (('la', 'DA'), 'O'),\n",
    "     (('gripe', 'NC'), 'O'),\n",
    "     (('.', 'Fp'), 'O')],\n",
    "   \n",
    "    [(('Según', 'CS'), 'O'),\n",
    "     (('informó', 'VMI'), 'O'),\n",
    "     (('Martinez', 'NC'), 'B-PER'),\n",
    "     ((',', 'Fc'), 'O'),\n",
    "     (('esta', 'DD'), 'O'),\n",
    "     (('campaña', 'NC'), 'O'),\n",
    "     (('se', 'P0'), 'O'),\n",
    "     (('lanzará', 'VMM'), 'O'),\n",
    "     (('en', 'SP'), 'O'),\n",
    "     (('todo', 'DI'), 'O'),\n",
    "     (('el', 'DA'), 'O'),\n",
    "     (('país', 'NC'), 'O'),\n",
    "     (('desde', 'SP'), 'O'),\n",
    "     (('el', 'DA'), 'O'),\n",
    "     (('próximo', 'AQ'), 'O'),\n",
    "     (('lunes', 'NC'), 'O'),\n",
    "     (('.', 'Fp'), 'O')],\n",
    "   \n",
    "    [(('El', 'DA'), 'O'),\n",
    "     (('objetivo', 'NC'), 'O'),\n",
    "     (('de', 'SP'), 'O'),\n",
    "     (('esta', 'DD'), 'O'),\n",
    "     (('iniciativa', 'NC'), 'O'),\n",
    "     (('es', 'VSI'), 'O'),\n",
    "     (('prevenir', 'VMN'), 'O'),\n",
    "     (('la', 'DA'), 'O'),\n",
    "     (('propagación', 'NC'), 'O'),\n",
    "     (('del', 'SP'), 'O'),\n",
    "     (('virus', 'NC'), 'O'),\n",
    "     (('en', 'SP'), 'O'),\n",
    "     (('las', 'DA'), 'O'),\n",
    "     (('temporadas', 'NC'), 'O'),\n",
    "     (('frías', 'AQ'), 'O'),\n",
    "     (('.', 'Fp'), 'O')],\n",
    "\n",
    "    [(('La', 'DA'), 'O'),\n",
    "     (('Directora', 'NC'), 'B-PER'),\n",
    "     (('General', 'AQ'), 'I-PER'),\n",
    "     (('de', 'SP'), 'I-PER'),\n",
    "     (('Cultura', 'NC'), 'I-PER'),\n",
    "     ((',', 'Fc'), 'O'),\n",
    "     (('Isabel', 'VMI'), 'B-PER'),\n",
    "     (('García', 'NC'), 'I-PER'),\n",
    "     ((',', 'Fc'), 'O'),\n",
    "     (('inauguró', 'VMI'), 'O'),\n",
    "     (('hoy', 'RG'), 'O'),\n",
    "     (('el', 'DA'), 'O'),\n",
    "     (('nuevo', 'AQ'), 'O'),\n",
    "     (('museo', 'NC'), 'O'),\n",
    "     (('de', 'SP'), 'O'),\n",
    "     (('arte', 'NC'), 'O'),\n",
    "     (('moderno', 'AQ'), 'O'),\n",
    "     (('.', 'Fp'), 'O')],\n",
    "   \n",
    "    [(('Este', 'DD'), 'O'),\n",
    "     (('museo', 'NC'), 'O'),\n",
    "     ((',', 'Fc'), 'O'),\n",
    "     (('situado', 'VMP'), 'O'),\n",
    "     (('en', 'SP'), 'O'),\n",
    "     (('el', 'DA'), 'O'),\n",
    "     (('centro', 'NC'), 'O'),\n",
    "     (('de', 'SP'), 'O'),\n",
    "     (('la', 'DA'), 'O'),\n",
    "     (('ciudad', 'NC'), 'O'),\n",
    "     ((',', 'Fc'), 'O'),\n",
    "     (('albergará', 'VMM'), 'O'),\n",
    "     (('una', 'DI'), 'O'),\n",
    "     (('colección', 'NC'), 'O'),\n",
    "     (('de', 'SP'), 'O'),\n",
    "     (('obras', 'NC'), 'O'),\n",
    "     (('contemporáneas', 'AQ'), 'O'),\n",
    "     (('.', 'Fp'), 'O')],\n",
    "  \n",
    "    [(('García', 'NC'), 'B-PER'),\n",
    "     (('destacó', 'VMI'), 'O'),\n",
    "     (('la', 'DA'), 'O'),\n",
    "     (('importancia', 'NC'), 'O'),\n",
    "     (('de', 'SP'), 'O'),\n",
    "     (('este', 'DD'), 'O'),\n",
    "     (('espacio', 'NC'), 'O'),\n",
    "     (('para', 'SP'), 'O'),\n",
    "     (('la', 'DA'), 'O'),\n",
    "     (('promoción', 'NC'), 'O'),\n",
    "     (('de', 'SP'), 'O'),\n",
    "     (('los', 'DA'), 'O'),\n",
    "     (('artistas', 'NC'), 'O'),\n",
    "     (('locales', 'AQ'), 'O'),\n",
    "     (('.', 'Fp'), 'O')]\n",
    "\n",
    "]\n"
   ]
  },
  {
   "cell_type": "code",
   "execution_count": 99,
   "metadata": {},
   "outputs": [
    {
     "name": "stdout",
     "output_type": "stream",
     "text": [
      "Recall: 0.7777777777777778, Precision: 0.7777777777777778, F-score 0.7777777777777778\n"
     ]
    }
   ],
   "source": [
    "predicted_tags = custom_tagger.tag_sents([[token for token, _ in sent] for sent in text_chat_gpt])\n",
    "\n",
    "recall, precision, fscore = compute_scores(predicted_tags,text_chat_gpt,codification = 'bio')\n",
    "\n",
    "print(f'Recall: {recall}, Precision: {precision}, F-score {fscore}')\n"
   ]
  },
  {
   "attachments": {},
   "cell_type": "markdown",
   "metadata": {},
   "source": [
    "### Holandès"
   ]
  },
  {
   "attachments": {},
   "cell_type": "markdown",
   "metadata": {},
   "source": [
    "##### Divisió de dades"
   ]
  },
  {
   "cell_type": "code",
   "execution_count": 9,
   "metadata": {},
   "outputs": [],
   "source": [
    "#train sets \n",
    "train_ned_biow = bio_to_biow(train_ned)\n",
    "train_ned_io = bio_to_io(train_ned)\n",
    "train_ned_bio = train_ned\n",
    "\n",
    "#validation sets\n",
    "val_ned_biow = bio_to_biow(test_a_ned)\n",
    "val_ned_io = bio_to_io(test_a_ned)\n",
    "val_ned_bio = test_a_ned\n",
    "\n",
    "#test sets\n",
    "test_ned_biow = bio_to_biow(test_b_ned)\n",
    "test_ned_io = bio_to_io(test_b_ned)\n",
    "test_ned_bio = test_b_ned\n"
   ]
  },
  {
   "attachments": {},
   "cell_type": "markdown",
   "metadata": {},
   "source": [
    "##### Entrenament i validació amb diferents codificacions"
   ]
  },
  {
   "cell_type": "code",
   "execution_count": null,
   "metadata": {},
   "outputs": [],
   "source": [
    "# Creem dues llistes amb valors booleans per indicar si s'ha d'activar o no determinades característiques del model (pos_enabled_v i is_upper_case_v)\n",
    "pos_enabled_v = [True,False]\n",
    "is_upper_case_v = [True,False]\n",
    "\n",
    "pos_pred =[True,False]\n",
    "pos_post = [True,False]\n",
    "\n",
    "# Creem una llista de diccionaris amb les diferents codificacions per a l'idioma neerlandès\n",
    "codificacions_ned = [{'train': train_ned_bio, 'val': val_ned_bio, 'codificacio': 'bio'}, {'train': train_ned_io, 'val': val_ned_io, 'codificacio': 'io'}, {'train': train_ned_biow, 'val': val_ned_biow, 'codificacio': 'biow'} ]\n",
    "\n",
    "# Inicialitzem una llista buida per a guardar els resultats\n",
    "results_ned = []\n",
    "\n",
    "# Comencem un bucle on per cada conjunt de dades i codificació\n",
    "for dataset in codificacions_ned:\n",
    "    # Desempaquetem les dades d'entrenament, validació i la codificació\n",
    "    train = dataset['train']\n",
    "    val = dataset['val']\n",
    "    codificacio = dataset['codificacio']\n",
    "\n",
    "    for anterior in pos_pred:\n",
    "        for seguent in pos_post:\n",
    "            # Executem un altre bucle per a cada combinació de valors de pos_enabled i is_uppercase\n",
    "            for valor_pos in pos_enabled_v:\n",
    "                for valor_upper in is_upper_case_v:\n",
    "                    # Creem i entrenem el model personalitzat amb les opcions corresponents\n",
    "                    custom_tagger = CustomCRFTagger(idioma = 'dutch', pos_enabled = valor_pos, is_uppercase = valor_upper, pos_pred = anterior, pos_post = seguent)\n",
    "                    \n",
    "                    # Guardem el temps actual\n",
    "                    start_time = time.time()\n",
    "                    \n",
    "                    # Entrenem el model\n",
    "                    custom_tagger.train(train, 'custom_model.crf.tagger')\n",
    "                    \n",
    "                    # Calculem el temps que ha tardat l'entrenament\n",
    "                    training_time = time.time() - start_time\n",
    "\n",
    "                    # Guardem el temps actual\n",
    "                    start_time = time.time()\n",
    "\n",
    "                    # Realitzem les prediccions en el conjunt de validació\n",
    "                    predicted_tags = custom_tagger.tag_sents([[token for token, _ in sent] for sent in val])\n",
    "\n",
    "                    # Calculem el temps que ha tardat la validació\n",
    "                    validation_time = time.time() - start_time\n",
    "\n",
    "                    # Calculem les mètriques de rendiment (recall, precision, f-score)\n",
    "                    recall, precision, fscore = compute_scores(predicted_tags, val, codification = codificacio)\n",
    "\n",
    "                    # Guardem els resultats\n",
    "                    results_ned.append((codificacio, recall, precision, fscore, valor_pos, valor_upper, anterior, seguent, training_time, validation_time))\n",
    "                    print('done')"
   ]
  },
  {
   "attachments": {},
   "cell_type": "markdown",
   "metadata": {},
   "source": [
    "##### Guardar i carregar dataframe:"
   ]
  },
  {
   "cell_type": "code",
   "execution_count": null,
   "metadata": {},
   "outputs": [],
   "source": [
    "# Guardar CSV\n",
    "#dataframe_neerlandes = pd.DataFrame(results_ned, columns=['codificacio', 'recall', 'precision', 'fscore', 'pos_enabled_v', 'is_upper_case_v', 'pos_pred', 'pos_post','temps entrenament (s)','temps validació (s)'])\n",
    "#dataframe_neerlandes.to_csv('dataframe_neerlandes.csv', index=False)\n",
    "\n",
    "# Cargar CSV\n",
    "dataframe_neerlandes = pd.read_csv('dataframe_neerlandes.csv')\n",
    "dataframe_neerlandes = dataframe_neerlandes.round(3)\n"
   ]
  },
  {
   "attachments": {},
   "cell_type": "markdown",
   "metadata": {},
   "source": [
    "##### Visualització de resultats:"
   ]
  },
  {
   "cell_type": "code",
   "execution_count": 48,
   "metadata": {},
   "outputs": [
    {
     "data": {
      "application/vnd.plotly.v1+json": {
       "config": {
        "plotlyServerURL": "https://plot.ly"
       },
       "data": [
        {
         "customdata": [
          [
           0.721,
           0.675,
           true,
           true,
           true,
           true
          ],
          [
           0.809,
           0.535,
           true,
           false,
           true,
           true
          ],
          [
           0.719,
           0.663,
           false,
           true,
           true,
           true
          ],
          [
           0.833,
           0.502,
           false,
           false,
           true,
           true
          ],
          [
           0.724,
           0.673,
           true,
           true,
           true,
           false
          ],
          [
           0.815,
           0.529,
           true,
           false,
           true,
           false
          ],
          [
           0.713,
           0.657,
           false,
           true,
           true,
           false
          ],
          [
           0.835,
           0.509,
           false,
           false,
           true,
           false
          ],
          [
           0.689,
           0.642,
           true,
           true,
           false,
           true
          ],
          [
           0.809,
           0.504,
           true,
           false,
           false,
           true
          ],
          [
           0.692,
           0.634,
           false,
           true,
           false,
           true
          ],
          [
           0.842,
           0.476,
           false,
           false,
           false,
           true
          ],
          [
           0.684,
           0.632,
           true,
           true,
           false,
           false
          ],
          [
           0.807,
           0.498,
           true,
           false,
           false,
           false
          ],
          [
           0.68,
           0.621,
           false,
           true,
           false,
           false
          ],
          [
           0.837,
           0.482,
           false,
           false,
           false,
           false
          ]
         ],
         "hovertemplate": "codificacio=bio<br>fscore=%{x}<br>temps entrenament (s)=%{y}<br>temps validació (s)=%{z}<br>recall=%{customdata[0]}<br>precision=%{customdata[1]}<br>pos_enabled_v=%{customdata[2]}<br>is_upper_case_v=%{customdata[3]}<br>pos_pred=%{customdata[4]}<br>pos_post=%{customdata[5]}<extra></extra>",
         "legendgroup": "bio",
         "marker": {
          "color": "#636efa",
          "symbol": "circle"
         },
         "mode": "markers",
         "name": "bio",
         "scene": "scene",
         "showlegend": true,
         "type": "scatter3d",
         "x": [
          0.697,
          0.644,
          0.69,
          0.627,
          0.698,
          0.641,
          0.684,
          0.632,
          0.665,
          0.621,
          0.662,
          0.609,
          0.657,
          0.616,
          0.649,
          0.611
         ],
         "y": [
          175.397,
          182.619,
          161.811,
          183.599,
          159.885,
          169.198,
          153.409,
          159.814,
          153.85,
          165.433,
          149.51,
          154.866,
          147.281,
          154.812,
          132.937,
          157.902
         ],
         "z": [
          16.827,
          15.206,
          16.131,
          15.083,
          14.807,
          17.415,
          13.967,
          13.019,
          14.496,
          14.72,
          14.651,
          13.847,
          14.748,
          13.192,
          14.237,
          14.18
         ]
        },
        {
         "customdata": [
          [
           0.706,
           0.669,
           true,
           true,
           true,
           true
          ],
          [
           0.779,
           0.521,
           true,
           false,
           true,
           true
          ],
          [
           0.706,
           0.657,
           false,
           true,
           true,
           true
          ],
          [
           0.795,
           0.492,
           false,
           false,
           true,
           true
          ],
          [
           0.691,
           0.648,
           true,
           true,
           true,
           false
          ],
          [
           0.777,
           0.518,
           true,
           false,
           true,
           false
          ],
          [
           0.693,
           0.642,
           false,
           true,
           true,
           false
          ],
          [
           0.794,
           0.489,
           false,
           false,
           true,
           false
          ],
          [
           0.679,
           0.639,
           true,
           true,
           false,
           true
          ],
          [
           0.793,
           0.509,
           true,
           false,
           false,
           true
          ],
          [
           0.675,
           0.622,
           false,
           true,
           false,
           true
          ],
          [
           0.796,
           0.472,
           false,
           false,
           false,
           true
          ],
          [
           0.678,
           0.637,
           true,
           true,
           false,
           false
          ],
          [
           0.784,
           0.503,
           true,
           false,
           false,
           false
          ],
          [
           0.671,
           0.622,
           false,
           true,
           false,
           false
          ],
          [
           0.795,
           0.469,
           false,
           false,
           false,
           false
          ]
         ],
         "hovertemplate": "codificacio=io<br>fscore=%{x}<br>temps entrenament (s)=%{y}<br>temps validació (s)=%{z}<br>recall=%{customdata[0]}<br>precision=%{customdata[1]}<br>pos_enabled_v=%{customdata[2]}<br>is_upper_case_v=%{customdata[3]}<br>pos_pred=%{customdata[4]}<br>pos_post=%{customdata[5]}<extra></extra>",
         "legendgroup": "io",
         "marker": {
          "color": "#EF553B",
          "symbol": "circle"
         },
         "mode": "markers",
         "name": "io",
         "scene": "scene",
         "showlegend": true,
         "type": "scatter3d",
         "x": [
          0.687,
          0.624,
          0.681,
          0.608,
          0.669,
          0.621,
          0.667,
          0.605,
          0.658,
          0.62,
          0.648,
          0.593,
          0.657,
          0.613,
          0.646,
          0.59
         ],
         "y": [
          149.257,
          157.509,
          147.536,
          151.643,
          136.702,
          138.396,
          145.323,
          147.705,
          137.157,
          168.787625,
          137.828,
          155.037,
          150.073,
          153.183,
          139.117,
          136.557
         ],
         "z": [
          14.965,
          15.232,
          16.048,
          15.981,
          13.786,
          13.794,
          15.099,
          14.437,
          14.61,
          15.153,
          14.406,
          14.5,
          15.352,
          15.367,
          14.782,
          15.646
         ]
        },
        {
         "customdata": [
          [
           0.761,
           0.737,
           true,
           true,
           true,
           true
          ],
          [
           0.768,
           0.699,
           true,
           false,
           true,
           true
          ],
          [
           0.753,
           0.728,
           false,
           true,
           true,
           true
          ],
          [
           0.783,
           0.695,
           false,
           false,
           true,
           true
          ],
          [
           0.758,
           0.732,
           true,
           true,
           true,
           false
          ],
          [
           0.761,
           0.7,
           true,
           false,
           true,
           false
          ],
          [
           0.76,
           0.733,
           false,
           true,
           true,
           false
          ],
          [
           0.765,
           0.684,
           false,
           false,
           true,
           false
          ],
          [
           0.745,
           0.718,
           true,
           true,
           false,
           true
          ],
          [
           0.766,
           0.686,
           true,
           false,
           false,
           true
          ],
          [
           0.752,
           0.723,
           false,
           true,
           false,
           true
          ],
          [
           0.812,
           0.681,
           false,
           false,
           false,
           true
          ],
          [
           0.75,
           0.719,
           true,
           true,
           false,
           false
          ],
          [
           0.758,
           0.682,
           true,
           false,
           false,
           false
          ],
          [
           0.733,
           0.707,
           false,
           true,
           false,
           false
          ],
          [
           0.797,
           0.679,
           false,
           false,
           false,
           false
          ]
         ],
         "hovertemplate": "codificacio=biow<br>fscore=%{x}<br>temps entrenament (s)=%{y}<br>temps validació (s)=%{z}<br>recall=%{customdata[0]}<br>precision=%{customdata[1]}<br>pos_enabled_v=%{customdata[2]}<br>is_upper_case_v=%{customdata[3]}<br>pos_pred=%{customdata[4]}<br>pos_post=%{customdata[5]}<extra></extra>",
         "legendgroup": "biow",
         "marker": {
          "color": "#00cc96",
          "symbol": "circle"
         },
         "mode": "markers",
         "name": "biow",
         "scene": "scene",
         "showlegend": true,
         "type": "scatter3d",
         "x": [
          0.749,
          0.732,
          0.741,
          0.736,
          0.745,
          0.729,
          0.746,
          0.722,
          0.731,
          0.724,
          0.737,
          0.741,
          0.734,
          0.718,
          0.72,
          0.733
         ],
         "y": [
          196.151,
          213.272,
          180.061,
          203.455,
          190.988,
          199.327,
          168.064,
          185.373,
          174.578,
          185.941,
          179.235,
          190.498,
          174.952,
          195.126,
          169.024,
          194.659
         ],
         "z": [
          14.725,
          15.434,
          15.158,
          17.001,
          15.224,
          15.591,
          13.439,
          15.716,
          13.671,
          13.39,
          14.999,
          14.56,
          15.864,
          14.757,
          14.721,
          14.724
         ]
        }
       ],
       "layout": {
        "height": 800,
        "legend": {
         "title": {
          "text": "codificacio"
         },
         "tracegroupgap": 0
        },
        "margin": {
         "t": 60
        },
        "scene": {
         "domain": {
          "x": [
           0,
           1
          ],
          "y": [
           0,
           1
          ]
         },
         "xaxis": {
          "title": {
           "text": "fscore"
          }
         },
         "yaxis": {
          "title": {
           "text": "temps entrenament (s)"
          }
         },
         "zaxis": {
          "title": {
           "text": "temps validació (s)"
          }
         }
        },
        "template": {
         "data": {
          "bar": [
           {
            "error_x": {
             "color": "#2a3f5f"
            },
            "error_y": {
             "color": "#2a3f5f"
            },
            "marker": {
             "line": {
              "color": "#E5ECF6",
              "width": 0.5
             },
             "pattern": {
              "fillmode": "overlay",
              "size": 10,
              "solidity": 0.2
             }
            },
            "type": "bar"
           }
          ],
          "barpolar": [
           {
            "marker": {
             "line": {
              "color": "#E5ECF6",
              "width": 0.5
             },
             "pattern": {
              "fillmode": "overlay",
              "size": 10,
              "solidity": 0.2
             }
            },
            "type": "barpolar"
           }
          ],
          "carpet": [
           {
            "aaxis": {
             "endlinecolor": "#2a3f5f",
             "gridcolor": "white",
             "linecolor": "white",
             "minorgridcolor": "white",
             "startlinecolor": "#2a3f5f"
            },
            "baxis": {
             "endlinecolor": "#2a3f5f",
             "gridcolor": "white",
             "linecolor": "white",
             "minorgridcolor": "white",
             "startlinecolor": "#2a3f5f"
            },
            "type": "carpet"
           }
          ],
          "choropleth": [
           {
            "colorbar": {
             "outlinewidth": 0,
             "ticks": ""
            },
            "type": "choropleth"
           }
          ],
          "contour": [
           {
            "colorbar": {
             "outlinewidth": 0,
             "ticks": ""
            },
            "colorscale": [
             [
              0,
              "#0d0887"
             ],
             [
              0.1111111111111111,
              "#46039f"
             ],
             [
              0.2222222222222222,
              "#7201a8"
             ],
             [
              0.3333333333333333,
              "#9c179e"
             ],
             [
              0.4444444444444444,
              "#bd3786"
             ],
             [
              0.5555555555555556,
              "#d8576b"
             ],
             [
              0.6666666666666666,
              "#ed7953"
             ],
             [
              0.7777777777777778,
              "#fb9f3a"
             ],
             [
              0.8888888888888888,
              "#fdca26"
             ],
             [
              1,
              "#f0f921"
             ]
            ],
            "type": "contour"
           }
          ],
          "contourcarpet": [
           {
            "colorbar": {
             "outlinewidth": 0,
             "ticks": ""
            },
            "type": "contourcarpet"
           }
          ],
          "heatmap": [
           {
            "colorbar": {
             "outlinewidth": 0,
             "ticks": ""
            },
            "colorscale": [
             [
              0,
              "#0d0887"
             ],
             [
              0.1111111111111111,
              "#46039f"
             ],
             [
              0.2222222222222222,
              "#7201a8"
             ],
             [
              0.3333333333333333,
              "#9c179e"
             ],
             [
              0.4444444444444444,
              "#bd3786"
             ],
             [
              0.5555555555555556,
              "#d8576b"
             ],
             [
              0.6666666666666666,
              "#ed7953"
             ],
             [
              0.7777777777777778,
              "#fb9f3a"
             ],
             [
              0.8888888888888888,
              "#fdca26"
             ],
             [
              1,
              "#f0f921"
             ]
            ],
            "type": "heatmap"
           }
          ],
          "heatmapgl": [
           {
            "colorbar": {
             "outlinewidth": 0,
             "ticks": ""
            },
            "colorscale": [
             [
              0,
              "#0d0887"
             ],
             [
              0.1111111111111111,
              "#46039f"
             ],
             [
              0.2222222222222222,
              "#7201a8"
             ],
             [
              0.3333333333333333,
              "#9c179e"
             ],
             [
              0.4444444444444444,
              "#bd3786"
             ],
             [
              0.5555555555555556,
              "#d8576b"
             ],
             [
              0.6666666666666666,
              "#ed7953"
             ],
             [
              0.7777777777777778,
              "#fb9f3a"
             ],
             [
              0.8888888888888888,
              "#fdca26"
             ],
             [
              1,
              "#f0f921"
             ]
            ],
            "type": "heatmapgl"
           }
          ],
          "histogram": [
           {
            "marker": {
             "pattern": {
              "fillmode": "overlay",
              "size": 10,
              "solidity": 0.2
             }
            },
            "type": "histogram"
           }
          ],
          "histogram2d": [
           {
            "colorbar": {
             "outlinewidth": 0,
             "ticks": ""
            },
            "colorscale": [
             [
              0,
              "#0d0887"
             ],
             [
              0.1111111111111111,
              "#46039f"
             ],
             [
              0.2222222222222222,
              "#7201a8"
             ],
             [
              0.3333333333333333,
              "#9c179e"
             ],
             [
              0.4444444444444444,
              "#bd3786"
             ],
             [
              0.5555555555555556,
              "#d8576b"
             ],
             [
              0.6666666666666666,
              "#ed7953"
             ],
             [
              0.7777777777777778,
              "#fb9f3a"
             ],
             [
              0.8888888888888888,
              "#fdca26"
             ],
             [
              1,
              "#f0f921"
             ]
            ],
            "type": "histogram2d"
           }
          ],
          "histogram2dcontour": [
           {
            "colorbar": {
             "outlinewidth": 0,
             "ticks": ""
            },
            "colorscale": [
             [
              0,
              "#0d0887"
             ],
             [
              0.1111111111111111,
              "#46039f"
             ],
             [
              0.2222222222222222,
              "#7201a8"
             ],
             [
              0.3333333333333333,
              "#9c179e"
             ],
             [
              0.4444444444444444,
              "#bd3786"
             ],
             [
              0.5555555555555556,
              "#d8576b"
             ],
             [
              0.6666666666666666,
              "#ed7953"
             ],
             [
              0.7777777777777778,
              "#fb9f3a"
             ],
             [
              0.8888888888888888,
              "#fdca26"
             ],
             [
              1,
              "#f0f921"
             ]
            ],
            "type": "histogram2dcontour"
           }
          ],
          "mesh3d": [
           {
            "colorbar": {
             "outlinewidth": 0,
             "ticks": ""
            },
            "type": "mesh3d"
           }
          ],
          "parcoords": [
           {
            "line": {
             "colorbar": {
              "outlinewidth": 0,
              "ticks": ""
             }
            },
            "type": "parcoords"
           }
          ],
          "pie": [
           {
            "automargin": true,
            "type": "pie"
           }
          ],
          "scatter": [
           {
            "fillpattern": {
             "fillmode": "overlay",
             "size": 10,
             "solidity": 0.2
            },
            "type": "scatter"
           }
          ],
          "scatter3d": [
           {
            "line": {
             "colorbar": {
              "outlinewidth": 0,
              "ticks": ""
             }
            },
            "marker": {
             "colorbar": {
              "outlinewidth": 0,
              "ticks": ""
             }
            },
            "type": "scatter3d"
           }
          ],
          "scattercarpet": [
           {
            "marker": {
             "colorbar": {
              "outlinewidth": 0,
              "ticks": ""
             }
            },
            "type": "scattercarpet"
           }
          ],
          "scattergeo": [
           {
            "marker": {
             "colorbar": {
              "outlinewidth": 0,
              "ticks": ""
             }
            },
            "type": "scattergeo"
           }
          ],
          "scattergl": [
           {
            "marker": {
             "colorbar": {
              "outlinewidth": 0,
              "ticks": ""
             }
            },
            "type": "scattergl"
           }
          ],
          "scattermapbox": [
           {
            "marker": {
             "colorbar": {
              "outlinewidth": 0,
              "ticks": ""
             }
            },
            "type": "scattermapbox"
           }
          ],
          "scatterpolar": [
           {
            "marker": {
             "colorbar": {
              "outlinewidth": 0,
              "ticks": ""
             }
            },
            "type": "scatterpolar"
           }
          ],
          "scatterpolargl": [
           {
            "marker": {
             "colorbar": {
              "outlinewidth": 0,
              "ticks": ""
             }
            },
            "type": "scatterpolargl"
           }
          ],
          "scatterternary": [
           {
            "marker": {
             "colorbar": {
              "outlinewidth": 0,
              "ticks": ""
             }
            },
            "type": "scatterternary"
           }
          ],
          "surface": [
           {
            "colorbar": {
             "outlinewidth": 0,
             "ticks": ""
            },
            "colorscale": [
             [
              0,
              "#0d0887"
             ],
             [
              0.1111111111111111,
              "#46039f"
             ],
             [
              0.2222222222222222,
              "#7201a8"
             ],
             [
              0.3333333333333333,
              "#9c179e"
             ],
             [
              0.4444444444444444,
              "#bd3786"
             ],
             [
              0.5555555555555556,
              "#d8576b"
             ],
             [
              0.6666666666666666,
              "#ed7953"
             ],
             [
              0.7777777777777778,
              "#fb9f3a"
             ],
             [
              0.8888888888888888,
              "#fdca26"
             ],
             [
              1,
              "#f0f921"
             ]
            ],
            "type": "surface"
           }
          ],
          "table": [
           {
            "cells": {
             "fill": {
              "color": "#EBF0F8"
             },
             "line": {
              "color": "white"
             }
            },
            "header": {
             "fill": {
              "color": "#C8D4E3"
             },
             "line": {
              "color": "white"
             }
            },
            "type": "table"
           }
          ]
         },
         "layout": {
          "annotationdefaults": {
           "arrowcolor": "#2a3f5f",
           "arrowhead": 0,
           "arrowwidth": 1
          },
          "autotypenumbers": "strict",
          "coloraxis": {
           "colorbar": {
            "outlinewidth": 0,
            "ticks": ""
           }
          },
          "colorscale": {
           "diverging": [
            [
             0,
             "#8e0152"
            ],
            [
             0.1,
             "#c51b7d"
            ],
            [
             0.2,
             "#de77ae"
            ],
            [
             0.3,
             "#f1b6da"
            ],
            [
             0.4,
             "#fde0ef"
            ],
            [
             0.5,
             "#f7f7f7"
            ],
            [
             0.6,
             "#e6f5d0"
            ],
            [
             0.7,
             "#b8e186"
            ],
            [
             0.8,
             "#7fbc41"
            ],
            [
             0.9,
             "#4d9221"
            ],
            [
             1,
             "#276419"
            ]
           ],
           "sequential": [
            [
             0,
             "#0d0887"
            ],
            [
             0.1111111111111111,
             "#46039f"
            ],
            [
             0.2222222222222222,
             "#7201a8"
            ],
            [
             0.3333333333333333,
             "#9c179e"
            ],
            [
             0.4444444444444444,
             "#bd3786"
            ],
            [
             0.5555555555555556,
             "#d8576b"
            ],
            [
             0.6666666666666666,
             "#ed7953"
            ],
            [
             0.7777777777777778,
             "#fb9f3a"
            ],
            [
             0.8888888888888888,
             "#fdca26"
            ],
            [
             1,
             "#f0f921"
            ]
           ],
           "sequentialminus": [
            [
             0,
             "#0d0887"
            ],
            [
             0.1111111111111111,
             "#46039f"
            ],
            [
             0.2222222222222222,
             "#7201a8"
            ],
            [
             0.3333333333333333,
             "#9c179e"
            ],
            [
             0.4444444444444444,
             "#bd3786"
            ],
            [
             0.5555555555555556,
             "#d8576b"
            ],
            [
             0.6666666666666666,
             "#ed7953"
            ],
            [
             0.7777777777777778,
             "#fb9f3a"
            ],
            [
             0.8888888888888888,
             "#fdca26"
            ],
            [
             1,
             "#f0f921"
            ]
           ]
          },
          "colorway": [
           "#636efa",
           "#EF553B",
           "#00cc96",
           "#ab63fa",
           "#FFA15A",
           "#19d3f3",
           "#FF6692",
           "#B6E880",
           "#FF97FF",
           "#FECB52"
          ],
          "font": {
           "color": "#2a3f5f"
          },
          "geo": {
           "bgcolor": "white",
           "lakecolor": "white",
           "landcolor": "#E5ECF6",
           "showlakes": true,
           "showland": true,
           "subunitcolor": "white"
          },
          "hoverlabel": {
           "align": "left"
          },
          "hovermode": "closest",
          "mapbox": {
           "style": "light"
          },
          "paper_bgcolor": "white",
          "plot_bgcolor": "#E5ECF6",
          "polar": {
           "angularaxis": {
            "gridcolor": "white",
            "linecolor": "white",
            "ticks": ""
           },
           "bgcolor": "#E5ECF6",
           "radialaxis": {
            "gridcolor": "white",
            "linecolor": "white",
            "ticks": ""
           }
          },
          "scene": {
           "xaxis": {
            "backgroundcolor": "#E5ECF6",
            "gridcolor": "white",
            "gridwidth": 2,
            "linecolor": "white",
            "showbackground": true,
            "ticks": "",
            "zerolinecolor": "white"
           },
           "yaxis": {
            "backgroundcolor": "#E5ECF6",
            "gridcolor": "white",
            "gridwidth": 2,
            "linecolor": "white",
            "showbackground": true,
            "ticks": "",
            "zerolinecolor": "white"
           },
           "zaxis": {
            "backgroundcolor": "#E5ECF6",
            "gridcolor": "white",
            "gridwidth": 2,
            "linecolor": "white",
            "showbackground": true,
            "ticks": "",
            "zerolinecolor": "white"
           }
          },
          "shapedefaults": {
           "line": {
            "color": "#2a3f5f"
           }
          },
          "ternary": {
           "aaxis": {
            "gridcolor": "white",
            "linecolor": "white",
            "ticks": ""
           },
           "baxis": {
            "gridcolor": "white",
            "linecolor": "white",
            "ticks": ""
           },
           "bgcolor": "#E5ECF6",
           "caxis": {
            "gridcolor": "white",
            "linecolor": "white",
            "ticks": ""
           }
          },
          "title": {
           "x": 0.05
          },
          "xaxis": {
           "automargin": true,
           "gridcolor": "white",
           "linecolor": "white",
           "ticks": "",
           "title": {
            "standoff": 15
           },
           "zerolinecolor": "white",
           "zerolinewidth": 2
          },
          "yaxis": {
           "automargin": true,
           "gridcolor": "white",
           "linecolor": "white",
           "ticks": "",
           "title": {
            "standoff": 15
           },
           "zerolinecolor": "white",
           "zerolinewidth": 2
          }
         }
        },
        "title": {
         "text": "Codificacions de models (Neerlandès)"
        },
        "width": 800
       }
      }
     },
     "metadata": {},
     "output_type": "display_data"
    }
   ],
   "source": [
    "hover_data = {\n",
    "    'recall': True, \n",
    "    'precision': True,\n",
    "    'pos_enabled_v': True,\n",
    "    'is_upper_case_v': True,\n",
    "    'pos_pred': True,\n",
    "    'pos_post': True,\n",
    "}\n",
    "\n",
    "fig = px.scatter_3d(dataframe_neerlandes, \n",
    "                     x='fscore', \n",
    "                     y='temps entrenament (s)', \n",
    "                     z='temps validació (s)', \n",
    "                     color='codificacio', \n",
    "                     hover_data=hover_data)\n",
    "\n",
    "fig.update_layout(width=800, height=800,title=\"Codificacions de models (Neerlandès)\")\n",
    "\n",
    "fig.show()"
   ]
  },
  {
   "attachments": {},
   "cell_type": "markdown",
   "metadata": {},
   "source": [
    "##### Millor model al test:"
   ]
  },
  {
   "cell_type": "code",
   "execution_count": 10,
   "metadata": {},
   "outputs": [
    {
     "name": "stdout",
     "output_type": "stream",
     "text": [
      "Recall: 0.776183644189383, Precision: 0.7614356087262492, F-score 0.7687388987566607, training time 222.57206058502197 i test time 42.260475873947144\n"
     ]
    }
   ],
   "source": [
    "custom_tagger = CustomCRFTagger(pos_enabled = False, is_uppercase = True, pos_pred = True, pos_post= False)\n",
    "\n",
    "# Calculem el temps que ha tardat l'entrenament\n",
    "start_time = time.time() \n",
    "custom_tagger.train(train_ned_biow, 'custom_model.crf.tagger')\n",
    "training_time = time.time() - start_time\n",
    "\n",
    "# Calculem el temps que ha tardat el test\n",
    "start_time = time.time() \n",
    "predicted_tags = custom_tagger.tag_sents([[token for token, _ in sent] for sent in test_ned_biow])\n",
    "test_time = time.time() - start_time\n",
    "\n",
    "recall, precision, fscore = compute_scores(predicted_tags,test_ned_biow,codification = 'biow')\n",
    "\n",
    "print(f'Recall: {recall}, Precision: {precision}, F-score {fscore}, training time {training_time} i test time {test_time}')\n"
   ]
  },
  {
   "attachments": {},
   "cell_type": "markdown",
   "metadata": {},
   "source": [
    "##### Model amb textos reals generats per CHAT GPT"
   ]
  },
  {
   "cell_type": "code",
   "execution_count": 30,
   "metadata": {},
   "outputs": [],
   "source": [
    "text_chat_gpt = [[(('Volgens', 'Prep'), 'O'), (('de', 'Art'), 'O'), (('recente', 'Adj'), 'O'), (('rapporten', 'N'), 'O'), ((',', 'Punc'), 'O')],\n",
    " [(('Het', 'Art'), 'O'), (('Centrum', 'N'), 'B-ORG'), (('voor', 'Prep'), 'I-ORG'), (('Ziektecontrole', 'N'), 'I-ORG'), (('in', 'Prep'), 'O'), (('Brussel', 'N'), 'B-LOC'), (('heeft', 'V'), 'O'), (('nieuwe', 'Adj'), 'O'), (('cijfers', 'N'), 'O'), (('gepubliceerd', 'V'), 'O'), (('.', 'Punc'), 'O')],\n",
    " [(('Er', 'Pron'), 'O'), (('zijn', 'V'), 'O'), (('nu', 'Adv'), 'O'), (('meer', 'Adj'), 'O'), (('dan', 'Prep'), 'O'), (('500', 'Num'), 'O'), (('gevallen', 'N'), 'O'), (('van', 'Prep'), 'O'), (('de', 'Art'), 'O'), (('variant', 'N'), 'O'), (('geïdentificeerd', 'V'), 'O'), (('.', 'Punc'), 'O')],\n",
    " [(('Vlaams', 'Adj'), 'B-ORG'), (('Minister', 'N'), 'I-ORG'), (('van', 'Prep'), 'I-ORG'), (('Gezondheid', 'N'), 'I-ORG'), ((',', 'Punc'), 'O'), (('Jan', 'N'), 'B-PER'), (('Janssen', 'N'), 'I-PER'), (('zei', 'V'), 'O'), (('dat', 'Conj'), 'O'), (('de', 'Art'), 'O'), (('situatie', 'N'), 'O'), (('ernstig', 'Adj'), 'O'), (('is', 'V'), 'O'), (('.', 'Punc'), 'O')],\n",
    " [(('De', 'Art'), 'O'), (('overheid', 'N'), 'O'), (('heeft', 'V'), 'O'), (('een', 'Art'), 'O'), (('plan', 'N'), 'O'), (('om', 'Prep'), 'O'), (('meer', 'Adj'), 'O'), (('vaccins', 'N'), 'O'), (('te', 'Prep'), 'O'), (('verspreiden', 'V'), 'O'), (('.', 'Punc'), 'O')],\n",
    " [(('Het', 'Art'), 'O'), (('Rode', 'Adj'), 'B-ORG'), (('Kruis', 'N'), 'I-ORG'), (('zal', 'V'), 'O'), (('helpen', 'V'), 'O'), (('bij', 'Prep'), 'O'), (('de', 'Art'), 'O'), (('distributie', 'N'), 'O'), (('.', 'Punc'), 'O')],\n",
    " [(('In', 'Prep'), 'O'), (('tussentijd', 'N'), 'O'), ((',', 'Punc'), 'O'), (('blijven', 'V'), 'O'), (('de', 'Art'), 'O'), (('ziekenhuizen', 'N'), 'O'), (('in', 'Prep'), 'O'), (('Gent', 'N'), 'W-LOC')]]\n"
   ]
  },
  {
   "cell_type": "code",
   "execution_count": 31,
   "metadata": {},
   "outputs": [
    {
     "name": "stdout",
     "output_type": "stream",
     "text": [
      "Recall: 1.0, Precision: 0.8, F-score 0.888888888888889\n"
     ]
    }
   ],
   "source": [
    "predicted_tags = custom_tagger.tag_sents([[token for token, _ in sent] for sent in text_chat_gpt])\n",
    "\n",
    "recall, precision, fscore = compute_scores(predicted_tags,text_chat_gpt, codification = 'biow')\n",
    "\n",
    "print(f'Recall: {recall}, Precision: {precision}, F-score {fscore}')\n"
   ]
  }
 ],
 "metadata": {
  "kernelspec": {
   "display_name": "Python 3",
   "language": "python",
   "name": "python3"
  },
  "language_info": {
   "codemirror_mode": {
    "name": "ipython",
    "version": 3
   },
   "file_extension": ".py",
   "mimetype": "text/x-python",
   "name": "python",
   "nbconvert_exporter": "python",
   "pygments_lexer": "ipython3",
   "version": "3.10.5"
  },
  "orig_nbformat": 4
 },
 "nbformat": 4,
 "nbformat_minor": 2
}
